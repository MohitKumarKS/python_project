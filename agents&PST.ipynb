{
  "nbformat": 4,
  "nbformat_minor": 0,
  "metadata": {
    "colab": {
      "provenance": [],
      "authorship_tag": "ABX9TyNYV03NeenmjECGLx77Vpnm",
      "include_colab_link": true
    },
    "kernelspec": {
      "name": "python3",
      "display_name": "Python 3"
    },
    "language_info": {
      "name": "python"
    }
  },
  "cells": [
    {
      "cell_type": "markdown",
      "metadata": {
        "id": "view-in-github",
        "colab_type": "text"
      },
      "source": [
        "<a href=\"https://colab.research.google.com/github/MohitKumarKS/python_project/blob/main/agents%26PST.ipynb\" target=\"_parent\"><img src=\"https://colab.research.google.com/assets/colab-badge.svg\" alt=\"Open In Colab\"/></a>"
      ]
    },
    {
      "cell_type": "code",
      "execution_count": null,
      "metadata": {
        "colab": {
          "base_uri": "https://localhost:8080/",
          "height": 659
        },
        "id": "biGlJdpLz5eW",
        "outputId": "f8b63f3d-419a-4384-8afe-8ce5243aa660"
      },
      "outputs": [
        {
          "output_type": "display_data",
          "data": {
            "text/plain": [
              "<Figure size 600x600 with 1 Axes>"
            ],
            "image/png": "[encoded data removed]"
          },
          "metadata": {}
        }
      ],
      "source": [
        "import networkx as nx\n",
        "import matplotlib.pyplot as plt\n",
        "import random\n",
        "\n",
        "row,cols=5,5\n",
        "G=nx.grid_2d_graph(row,cols)\n",
        "for(u,v)in G.edges:\n",
        "  G.edges[u,v]['weight']=1\n",
        "edges_to_remove=random.sample(list(G.edges()),int(0.3 * G.number_of_edges()))\n",
        "G.remove_edges_from(edges_to_remove)\n",
        "\n",
        "start=(0,0)\n",
        "goal=(row-1,cols-1)\n",
        "pos={(x,y):(y,-x) for x,y in G.nodes()}\n",
        "\n",
        "plt.figure(figsize=(6,6))\n",
        "nx.draw(G,pos,node_color='lightblue',with_labels=True,node_size=600,edge_color='black')\n",
        "nx.draw_networkx_nodes(G,pos,nodelist=[start],node_color='green',node_size=600)\n",
        "nx.draw_networkx_nodes(G,pos,nodelist=[goal],node_color='red',node_size=600)\n",
        "plt.title(\"Grid Graph\")\n",
        "plt.axis(\"off\")\n",
        "plt.show()"
      ]
    },
    {
      "cell_type": "markdown",
      "source": [],
      "metadata": {
        "id": "uDiibHXn__AX"
      }
    },
    {
      "cell_type": "code",
      "source": [
        "from collections import deque\n",
        "def bfs(graph,start,goal):\n",
        "  visited=set()\n",
        "  queue =deque([[start]])\n",
        "  while queue:\n",
        "    path=queue.popleft()\n",
        "    node=path[-1]\n",
        "    if node ==goal:\n",
        "      return path\n",
        "\n",
        "    if node not in visited:\n",
        "      for neighbor in graph[node]:\n",
        "        new_path=list(path)\n",
        "        new_path.append(neighbor)\n",
        "        queue.append(new_path)\n",
        "      visited.add(node)\n",
        "  return None\n",
        "print(\"\",bfs(G,start,goal))"
      ],
      "metadata": {
        "colab": {
          "base_uri": "https://localhost:8080/"
        },
        "id": "91-avMj3AAKZ",
        "outputId": "e414633f-b82e-461a-fe4f-95602af8d5df"
      },
      "execution_count": null,
      "outputs": [
        {
          "output_type": "stream",
          "name": "stdout",
          "text": [
            " [(0, 0), (0, 1), (1, 1), (2, 1), (3, 1), (3, 2), (3, 3), (3, 4), (4, 4)]\n"
          ]
        }
      ]
    },
    {
      "cell_type": "code",
      "source": [
        "import heapq\n",
        "import matplotlib.pyplot as plt\n",
        "\n",
        "# Heuristic: Manhattan distance\n",
        "def heuristic(a, b):\n",
        "    return abs(a[0] - b[0]) + abs(a[1] - b[1])\n",
        "\n",
        "def a_star(grid, start, goal):\n",
        "    rows, cols = len(grid), len(grid[0])\n",
        "    heap = [(heuristic(start, goal), 0, start, [start])]\n",
        "    visited = set()\n",
        "\n",
        "    while heap:\n",
        "        est_total, cost, current, path = heapq.heappop(heap)\n",
        "\n",
        "        if current == goal:\n",
        "            return path\n",
        "\n",
        "        if current in visited:\n",
        "            continue\n",
        "        visited.add(current)\n",
        "\n",
        "        # Explore neighbors: up, down, left, right\n",
        "        for dr, dc in [(0,1), (0,-1), (1,0), (-1,0)]:\n",
        "            nr, nc = current[0] + dr, current[1] + dc\n",
        "\n",
        "            if 0 <= nr < rows and 0 <= nc < cols and grid[nr][nc] == 0:\n",
        "                if (nr, nc) not in visited:\n",
        "                    new_cost = cost + 1  # step cost\n",
        "                    est = new_cost + heuristic((nr, nc), goal)\n",
        "                    heapq.heappush(heap, (est, new_cost, (nr, nc), path + [(nr, nc)]))\n",
        "    return None\n",
        "\n",
        "# Create a box-shaped 5x5 grid (0 = free, 1 = wall)\n",
        "grid = [\n",
        "    [0, 0, 0, 0, 0],\n",
        "    [0, 1, 1, 1, 0],\n",
        "    [0, 0, 0, 1, 0],\n",
        "    [1, 1, 0, 0, 0],\n",
        "    [0, 0, 0, 1, 0]\n",
        "]\n",
        "\n",
        "start = (0, 0)  # top-left\n",
        "goal = (4, 4)   # bottom-right\n",
        "\n",
        "path = a_star(grid, start, goal)\n",
        "print(\"A* Path:\", path)\n",
        "\n",
        "# Visualization\n",
        "fig, ax = plt.subplots()\n",
        "for r in range(len(grid)):\n",
        "    for c in range(len(grid[0])):\n",
        "        if grid[r][c] == 1:\n",
        "            ax.add_patch(plt.Rectangle((c, len(grid)-1-r), 1, 1, color=\"black\"))\n",
        "        else:\n",
        "            ax.add_patch(plt.Rectangle((c, len(grid)-1-r), 1, 1, fill=False, edgecolor=\"gray\"))\n",
        "\n",
        "# Draw path\n",
        "if path:\n",
        "    for (r, c) in path:\n",
        "        ax.add_patch(plt.Rectangle((c, len(grid)-1-r), 1, 1, color=\"yellow\", alpha=0.6))\n",
        "\n",
        "# Draw start & goal\n",
        "ax.add_patch(plt.Rectangle((start[1], len(grid)-1-start[0]), 1, 1, color=\"green\"))\n",
        "ax.add_patch(plt.Rectangle((goal[1], len(grid)-1-goal[0]), 1, 1, color=\"red\"))\n",
        "\n",
        "plt.xlim(0, len(grid[0]))\n",
        "plt.ylim(0, len(grid))\n",
        "plt.gca().set_aspect('equal', adjustable='box')\n",
        "plt.axis('off')\n",
        "plt.show()"
      ],
      "metadata": {
        "id": "GEEvwUkoEtpY",
        "colab": {
          "base_uri": "https://localhost:8080/",
          "height": 423
        },
        "outputId": "d0aae61f-a19c-4776-f40e-b3c75022f8b4"
      },
      "execution_count": 9,
      "outputs": [
        {
          "output_type": "stream",
          "name": "stdout",
          "text": [
            "A* Path: [(0, 0), (0, 1), (0, 2), (0, 3), (0, 4), (1, 4), (2, 4), (3, 4), (4, 4)]\n"
          ]
        },
        {
          "output_type": "display_data",
          "data": {
            "text/plain": [
              "<Figure size 640x480 with 1 Axes>"
            ],
            "image/png": "[encoded data removed]"
          },
          "metadata": {}
        }
      ]
    }
  ]
}